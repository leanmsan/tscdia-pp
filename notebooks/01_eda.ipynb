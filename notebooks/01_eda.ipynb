{
 "cells": [
  {
   "cell_type": "markdown",
   "id": "5d29461a",
   "metadata": {},
   "source": [
    "# 01 - Análisis Exploratorio de Datos (EDA)\n",
    "\n",
    "Este notebook contiene el análisis exploratorio de datos para el proyecto tscdia-pp.\n",
    "\n",
    "## Objetivos:\n",
    "- Cargar y explorar los datos\n",
    "- Analizar la distribución de variables\n",
    "- Identificar valores faltantes\n",
    "- Explorar correlaciones\n",
    "- Detectar outliers\n",
    "- Generar insights iniciales"
   ]
  },
  {
   "cell_type": "code",
   "execution_count": null,
   "id": "ddc37c72",
   "metadata": {},
   "outputs": [],
   "source": [
    "# Importar librerías necesarias\n",
    "import pandas as pd\n",
    "import numpy as np\n",
    "import matplotlib.pyplot as plt\n",
    "import seaborn as sns\n",
    "import warnings\n",
    "\n",
    "# Configuración\n",
    "warnings.filterwarnings('ignore')\n",
    "plt.style.use('seaborn-v0_8')\n",
    "sns.set_palette(\"husl\")\n",
    "\n",
    "# Configurar tamaño de figuras\n",
    "plt.rcParams['figure.figsize'] = [12, 8]\n",
    "\n",
    "# Importar funciones personalizadas\n",
    "import sys\n",
    "sys.path.append('../src')\n",
    "\n",
    "from etl.data_loader import load_csv_data, load_config\n",
    "from utils.helpers import generate_data_summary, plot_missing_values, plot_correlation_matrix\n",
    "\n",
    "print(\"Librerías importadas correctamente\")"
   ]
  },
  {
   "cell_type": "markdown",
   "id": "7acfa292",
   "metadata": {},
   "source": [
    "## 1. Carga de Datos"
   ]
  },
  {
   "cell_type": "code",
   "execution_count": null,
   "id": "ea76c9c1",
   "metadata": {},
   "outputs": [],
   "source": [
    "# Cargar configuración del proyecto\n",
    "config = load_config('../config.yaml')\n",
    "print(\"Configuración cargada:\")\n",
    "print(config)"
   ]
  },
  {
   "cell_type": "code",
   "execution_count": null,
   "id": "ae9a7359",
   "metadata": {},
   "outputs": [],
   "source": [
    "# Cargar datos (ajustar la ruta según tu dataset)\n",
    "# df = load_csv_data('../data/raw/your_dataset.csv')\n",
    "# print(f\"Datos cargados: {df.shape}\")\n",
    "# df.head()"
   ]
  },
  {
   "cell_type": "markdown",
   "id": "375dcf6d",
   "metadata": {},
   "source": [
    "## 2. Exploración Inicial"
   ]
  },
  {
   "cell_type": "code",
   "execution_count": null,
   "id": "ba69cdc4",
   "metadata": {},
   "outputs": [],
   "source": [
    "# Información básica del dataset\n",
    "# print(\"Información del dataset:\")\n",
    "# df.info()\n",
    "# print(\"\\nPrimeras 5 filas:\")\n",
    "# df.head()"
   ]
  },
  {
   "cell_type": "code",
   "execution_count": null,
   "id": "551005e9",
   "metadata": {},
   "outputs": [],
   "source": [
    "# Resumen estadístico\n",
    "# summary = generate_data_summary(df)\n",
    "# print(\"Resumen de los datos:\")\n",
    "# for key, value in summary.items():\n",
    "#     print(f\"{key}: {value}\")"
   ]
  },
  {
   "cell_type": "markdown",
   "id": "a429f011",
   "metadata": {},
   "source": [
    "## 3. Análisis de Valores Faltantes"
   ]
  },
  {
   "cell_type": "code",
   "execution_count": null,
   "id": "1995a17f",
   "metadata": {},
   "outputs": [],
   "source": [
    "# Visualizar valores faltantes\n",
    "# plot_missing_values(df)\n",
    "\n",
    "# Resumen de valores faltantes\n",
    "# missing_summary = df.isnull().sum()\n",
    "# missing_percentage = (df.isnull().sum() / len(df)) * 100\n",
    "# missing_df = pd.DataFrame({\n",
    "#     'Missing_Count': missing_summary,\n",
    "#     'Missing_Percentage': missing_percentage\n",
    "# }).sort_values('Missing_Percentage', ascending=False)\n",
    "# print(missing_df[missing_df['Missing_Count'] > 0])"
   ]
  },
  {
   "cell_type": "markdown",
   "id": "d17f16ef",
   "metadata": {},
   "source": [
    "## 4. Distribución de Variables"
   ]
  },
  {
   "cell_type": "code",
   "execution_count": null,
   "id": "54b3a496",
   "metadata": {},
   "outputs": [],
   "source": [
    "# Distribución de variables numéricas\n",
    "# numeric_columns = df.select_dtypes(include=[np.number]).columns\n",
    "# n_cols = 3\n",
    "# n_rows = (len(numeric_columns) + n_cols - 1) // n_cols\n",
    "\n",
    "# fig, axes = plt.subplots(n_rows, n_cols, figsize=(15, 5*n_rows))\n",
    "# axes = axes.flatten() if n_rows > 1 else [axes]\n",
    "\n",
    "# for i, col in enumerate(numeric_columns):\n",
    "#     if i < len(axes):\n",
    "#         df[col].hist(bins=30, ax=axes[i], alpha=0.7)\n",
    "#         axes[i].set_title(f'Distribución de {col}')\n",
    "#         axes[i].set_xlabel(col)\n",
    "#         axes[i].set_ylabel('Frecuencia')\n",
    "\n",
    "# # Ocultar subplots vacíos\n",
    "# for i in range(len(numeric_columns), len(axes)):\n",
    "#     axes[i].set_visible(False)\n",
    "\n",
    "# plt.tight_layout()\n",
    "# plt.show()"
   ]
  },
  {
   "cell_type": "code",
   "execution_count": null,
   "id": "cf1861cc",
   "metadata": {},
   "outputs": [],
   "source": [
    "# Distribución de variables categóricas\n",
    "# categorical_columns = df.select_dtypes(include=['object']).columns\n",
    "\n",
    "# for col in categorical_columns:\n",
    "#     plt.figure(figsize=(10, 6))\n",
    "#     value_counts = df[col].value_counts().head(10)  # Top 10 valores\n",
    "#     value_counts.plot(kind='bar')\n",
    "#     plt.title(f'Distribución de {col}')\n",
    "#     plt.xlabel(col)\n",
    "#     plt.ylabel('Frecuencia')\n",
    "#     plt.xticks(rotation=45)\n",
    "#     plt.tight_layout()\n",
    "#     plt.show()"
   ]
  },
  {
   "cell_type": "markdown",
   "id": "2c0debb6",
   "metadata": {},
   "source": [
    "## 5. Análisis de Correlaciones"
   ]
  },
  {
   "cell_type": "code",
   "execution_count": null,
   "id": "2176df2d",
   "metadata": {},
   "outputs": [],
   "source": [
    "# Matriz de correlación\n",
    "# plot_correlation_matrix(df)\n",
    "\n",
    "# Correlaciones más altas (excluyendo la diagonal)\n",
    "# corr_matrix = df.select_dtypes(include=[np.number]).corr()\n",
    "# mask = np.triu(np.ones_like(corr_matrix))\n",
    "# corr_matrix_masked = corr_matrix.mask(mask)\n",
    "# high_corr = corr_matrix_masked.unstack().dropna().sort_values(key=abs, ascending=False)\n",
    "# print(\"Correlaciones más altas:\")\n",
    "# print(high_corr.head(10))"
   ]
  },
  {
   "cell_type": "markdown",
   "id": "c2807b33",
   "metadata": {},
   "source": [
    "## 6. Detección de Outliers"
   ]
  },
  {
   "cell_type": "code",
   "execution_count": null,
   "id": "61fe9f07",
   "metadata": {},
   "outputs": [],
   "source": [
    "# Box plots para variables numéricas\n",
    "# numeric_columns = df.select_dtypes(include=[np.number]).columns\n",
    "# n_cols = 3\n",
    "# n_rows = (len(numeric_columns) + n_cols - 1) // n_cols\n",
    "\n",
    "# fig, axes = plt.subplots(n_rows, n_cols, figsize=(15, 5*n_rows))\n",
    "# axes = axes.flatten() if n_rows > 1 else [axes]\n",
    "\n",
    "# for i, col in enumerate(numeric_columns):\n",
    "#     if i < len(axes):\n",
    "#         df.boxplot(column=col, ax=axes[i])\n",
    "#         axes[i].set_title(f'Box Plot de {col}')\n",
    "\n",
    "# # Ocultar subplots vacíos\n",
    "# for i in range(len(numeric_columns), len(axes)):\n",
    "#     axes[i].set_visible(False)\n",
    "\n",
    "# plt.tight_layout()\n",
    "# plt.show()"
   ]
  },
  {
   "cell_type": "markdown",
   "id": "a6837741",
   "metadata": {},
   "source": [
    "## 7. Análisis Bivariado"
   ]
  },
  {
   "cell_type": "code",
   "execution_count": null,
   "id": "5e1c31ea",
   "metadata": {},
   "outputs": [],
   "source": [
    "# Pair plot para variables numéricas (muestra solo si hay pocas variables)\n",
    "# if len(numeric_columns) <= 6:\n",
    "#     sns.pairplot(df[numeric_columns])\n",
    "#     plt.show()\n",
    "# else:\n",
    "#     print(\"Demasiadas variables numéricas para pairplot. Selecciona algunas manualmente.\")"
   ]
  },
  {
   "cell_type": "markdown",
   "id": "d70de41e",
   "metadata": {},
   "source": [
    "## 8. Insights y Conclusiones\n",
    "\n",
    "### Principales hallazgos:\n",
    "1. **Calidad de datos**: [Describir problemas encontrados]\n",
    "2. **Distribuciones**: [Describir patrones en las distribuciones]\n",
    "3. **Correlaciones**: [Destacar correlaciones importantes]\n",
    "4. **Outliers**: [Comentar sobre outliers detectados]\n",
    "5. **Valores faltantes**: [Estrategia para manejar valores faltantes]\n",
    "\n",
    "### Próximos pasos:\n",
    "1. Limpieza de datos basada en los hallazgos\n",
    "2. Feature engineering\n",
    "3. Preparación para modelado\n",
    "4. Selección de algoritmos apropiados"
   ]
  }
 ],
 "metadata": {
  "language_info": {
   "name": "python"
  }
 },
 "nbformat": 4,
 "nbformat_minor": 5
}
